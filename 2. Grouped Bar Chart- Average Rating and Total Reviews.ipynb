{
 "cells": [
  {
   "cell_type": "code",
   "execution_count": 2,
   "id": "255015df-bbc5-4db4-890b-53dfb3d50c0e",
   "metadata": {},
   "outputs": [],
   "source": [
    "import pandas as pd\n",
    "import matplotlib.pyplot as plt\n",
    "from datetime import datetime"
   ]
  },
  {
   "cell_type": "code",
   "execution_count": 4,
   "id": "49c63964-1311-45e3-a5db-130f0b162f82",
   "metadata": {},
   "outputs": [
    {
     "data": {
      "text/html": [
       "<div>\n",
       "<style scoped>\n",
       "    .dataframe tbody tr th:only-of-type {\n",
       "        vertical-align: middle;\n",
       "    }\n",
       "\n",
       "    .dataframe tbody tr th {\n",
       "        vertical-align: top;\n",
       "    }\n",
       "\n",
       "    .dataframe thead th {\n",
       "        text-align: right;\n",
       "    }\n",
       "</style>\n",
       "<table border=\"1\" class=\"dataframe\">\n",
       "  <thead>\n",
       "    <tr style=\"text-align: right;\">\n",
       "      <th></th>\n",
       "      <th>App</th>\n",
       "      <th>Category</th>\n",
       "      <th>Rating</th>\n",
       "      <th>Reviews</th>\n",
       "      <th>Size</th>\n",
       "      <th>Installs</th>\n",
       "      <th>Type</th>\n",
       "      <th>Price</th>\n",
       "      <th>Content Rating</th>\n",
       "      <th>Genres</th>\n",
       "      <th>Last Updated</th>\n",
       "      <th>Current Ver</th>\n",
       "      <th>Android Ver</th>\n",
       "    </tr>\n",
       "  </thead>\n",
       "  <tbody>\n",
       "    <tr>\n",
       "      <th>0</th>\n",
       "      <td>Photo Editor &amp; Candy Camera &amp; Grid &amp; ScrapBook</td>\n",
       "      <td>ART_AND_DESIGN</td>\n",
       "      <td>4.1</td>\n",
       "      <td>159</td>\n",
       "      <td>19M</td>\n",
       "      <td>10,000+</td>\n",
       "      <td>Free</td>\n",
       "      <td>0</td>\n",
       "      <td>Everyone</td>\n",
       "      <td>Art &amp; Design</td>\n",
       "      <td>January 7, 2018</td>\n",
       "      <td>1.0.0</td>\n",
       "      <td>4.0.3 and up</td>\n",
       "    </tr>\n",
       "    <tr>\n",
       "      <th>1</th>\n",
       "      <td>Coloring book moana</td>\n",
       "      <td>ART_AND_DESIGN</td>\n",
       "      <td>3.9</td>\n",
       "      <td>967</td>\n",
       "      <td>14M</td>\n",
       "      <td>500,000+</td>\n",
       "      <td>Free</td>\n",
       "      <td>0</td>\n",
       "      <td>Everyone</td>\n",
       "      <td>Art &amp; Design;Pretend Play</td>\n",
       "      <td>January 15, 2018</td>\n",
       "      <td>2.0.0</td>\n",
       "      <td>4.0.3 and up</td>\n",
       "    </tr>\n",
       "    <tr>\n",
       "      <th>2</th>\n",
       "      <td>U Launcher Lite – FREE Live Cool Themes, Hide ...</td>\n",
       "      <td>ART_AND_DESIGN</td>\n",
       "      <td>4.7</td>\n",
       "      <td>87510</td>\n",
       "      <td>8.7M</td>\n",
       "      <td>5,000,000+</td>\n",
       "      <td>Free</td>\n",
       "      <td>0</td>\n",
       "      <td>Everyone</td>\n",
       "      <td>Art &amp; Design</td>\n",
       "      <td>August 1, 2018</td>\n",
       "      <td>1.2.4</td>\n",
       "      <td>4.0.3 and up</td>\n",
       "    </tr>\n",
       "    <tr>\n",
       "      <th>3</th>\n",
       "      <td>Sketch - Draw &amp; Paint</td>\n",
       "      <td>ART_AND_DESIGN</td>\n",
       "      <td>4.5</td>\n",
       "      <td>215644</td>\n",
       "      <td>25M</td>\n",
       "      <td>50,000,000+</td>\n",
       "      <td>Free</td>\n",
       "      <td>0</td>\n",
       "      <td>Teen</td>\n",
       "      <td>Art &amp; Design</td>\n",
       "      <td>June 8, 2018</td>\n",
       "      <td>Varies with device</td>\n",
       "      <td>4.2 and up</td>\n",
       "    </tr>\n",
       "    <tr>\n",
       "      <th>4</th>\n",
       "      <td>Pixel Draw - Number Art Coloring Book</td>\n",
       "      <td>ART_AND_DESIGN</td>\n",
       "      <td>4.3</td>\n",
       "      <td>967</td>\n",
       "      <td>2.8M</td>\n",
       "      <td>100,000+</td>\n",
       "      <td>Free</td>\n",
       "      <td>0</td>\n",
       "      <td>Everyone</td>\n",
       "      <td>Art &amp; Design;Creativity</td>\n",
       "      <td>June 20, 2018</td>\n",
       "      <td>1.1</td>\n",
       "      <td>4.4 and up</td>\n",
       "    </tr>\n",
       "  </tbody>\n",
       "</table>\n",
       "</div>"
      ],
      "text/plain": [
       "                                                 App        Category  Rating  \\\n",
       "0     Photo Editor & Candy Camera & Grid & ScrapBook  ART_AND_DESIGN     4.1   \n",
       "1                                Coloring book moana  ART_AND_DESIGN     3.9   \n",
       "2  U Launcher Lite – FREE Live Cool Themes, Hide ...  ART_AND_DESIGN     4.7   \n",
       "3                              Sketch - Draw & Paint  ART_AND_DESIGN     4.5   \n",
       "4              Pixel Draw - Number Art Coloring Book  ART_AND_DESIGN     4.3   \n",
       "\n",
       "  Reviews  Size     Installs  Type Price Content Rating  \\\n",
       "0     159   19M      10,000+  Free     0       Everyone   \n",
       "1     967   14M     500,000+  Free     0       Everyone   \n",
       "2   87510  8.7M   5,000,000+  Free     0       Everyone   \n",
       "3  215644   25M  50,000,000+  Free     0           Teen   \n",
       "4     967  2.8M     100,000+  Free     0       Everyone   \n",
       "\n",
       "                      Genres      Last Updated         Current Ver  \\\n",
       "0               Art & Design   January 7, 2018               1.0.0   \n",
       "1  Art & Design;Pretend Play  January 15, 2018               2.0.0   \n",
       "2               Art & Design    August 1, 2018               1.2.4   \n",
       "3               Art & Design      June 8, 2018  Varies with device   \n",
       "4    Art & Design;Creativity     June 20, 2018                 1.1   \n",
       "\n",
       "    Android Ver  \n",
       "0  4.0.3 and up  \n",
       "1  4.0.3 and up  \n",
       "2  4.0.3 and up  \n",
       "3    4.2 and up  \n",
       "4    4.4 and up  "
      ]
     },
     "execution_count": 4,
     "metadata": {},
     "output_type": "execute_result"
    }
   ],
   "source": [
    "# Load the dataset\n",
    "data = pd.read_csv('googleplaystore.csv')\n",
    "data.head()"
   ]
  },
  {
   "cell_type": "code",
   "execution_count": 6,
   "id": "8af318ea-819a-40df-b1dc-009972223641",
   "metadata": {},
   "outputs": [],
   "source": [
    "# Data Cleaning\n",
    "# Convert 'Last Updated' to datetime format\n",
    "data['Last Updated'] = pd.to_datetime(data['Last Updated'], errors='coerce')"
   ]
  },
  {
   "cell_type": "code",
   "execution_count": 8,
   "id": "48ec83d3-1782-4143-ab4a-6f530929e7b0",
   "metadata": {},
   "outputs": [],
   "source": [
    "# Clean 'Installs' column by removing '+' and ',' then convert to integer\n",
    "data['Installs'] = pd.to_numeric(data['Installs'].str.replace('[+,]', '', regex=True), errors='coerce')\n",
    "data['Installs'] = data['Installs'].fillna(0).astype(int) # Replace NaN with 0 and convert to int"
   ]
  },
  {
   "cell_type": "code",
   "execution_count": 10,
   "id": "35b0d84c-8997-476b-bafc-6897bcce4394",
   "metadata": {},
   "outputs": [],
   "source": [
    "# Clean 'Size' column and convert to numeric (handling 'Varies with device')\n",
    "data['Size'] = data['Size'].replace('Varies with device', pd.NA)\n",
    "data['Size'] = data['Size'].str.replace('M', 'e6').str.replace('k', 'e3')\n",
    "data['Size'] = pd.to_numeric(data['Size'], errors='coerce')"
   ]
  },
  {
   "cell_type": "code",
   "execution_count": 12,
   "id": "1231254a-3ded-4654-897d-4842b01e5999",
   "metadata": {},
   "outputs": [],
   "source": [
    "# Convert 'Reviews' to numeric\n",
    "data['Reviews'] = pd.to_numeric(data['Reviews'], errors='coerce')"
   ]
  },
  {
   "cell_type": "code",
   "execution_count": 14,
   "id": "1e6addb8-1b28-461e-894b-bb80eb8e811b",
   "metadata": {},
   "outputs": [],
   "source": [
    "# Convert 'Rating' to numeric\n",
    "data['Rating'] = pd.to_numeric(data['Rating'], errors='coerce')"
   ]
  },
  {
   "cell_type": "code",
   "execution_count": 16,
   "id": "bb4ae09a-cbfa-4310-b50a-c9f1e671fc4d",
   "metadata": {},
   "outputs": [],
   "source": [
    "# Function to check if the current time is within the allowed range\n",
    "def is_time_allowed(start_hour, end_hour):\n",
    "    current_hour = datetime.now().hour\n",
    "    return start_hour <= current_hour < end_hour"
   ]
  },
  {
   "cell_type": "markdown",
   "id": "ce363ae3-c339-4782-95e4-0a5d00d5accd",
   "metadata": {},
   "source": [
    "## 2. Grouped Bar Chart: Average Rating and Total Reviews"
   ]
  },
  {
   "cell_type": "code",
   "execution_count": 19,
   "id": "a3a8f2c2-4a6d-4d7b-907c-a503021b4e4f",
   "metadata": {},
   "outputs": [
    {
     "name": "stdout",
     "output_type": "stream",
     "text": [
      "This graph is not available outside the allowed time (3 PM to 5 PM IST).\n"
     ]
    }
   ],
   "source": [
    "if is_time_allowed(15, 17):\n",
    "    filtered_data = data[\n",
    "        (data['Rating'] >= 4.0) &\n",
    "        (data['Size'] >= 10_000_000) &\n",
    "        (data['Last Updated'].dt.month == 1)\n",
    "    ]\n",
    "\n",
    "    if not filtered_data.empty:\n",
    "        # Identify top 10 categories by number of installs\n",
    "        top_categories = filtered_data.groupby('Category')['Installs'].sum().nlargest(10).index\n",
    "        filtered_data = filtered_data[filtered_data['Category'].isin(top_categories)]\n",
    "\n",
    "        # Calculate average rating and total reviews for each category\n",
    "        avg_rating = filtered_data.groupby('Category')['Rating'].mean()\n",
    "        total_reviews = filtered_data.groupby('Category')['Reviews'].sum()\n",
    "\n",
    "        # Plotting the grouped bar chart\n",
    "        bar_width = 0.4\n",
    "        categories = avg_rating.index\n",
    "        x = range(len(categories))\n",
    "\n",
    "        fig, ax1 = plt.subplots(figsize=(10, 6))\n",
    "\n",
    "        # Average Rating Bars\n",
    "        ax1.bar(x, avg_rating, bar_width, label='Average Rating', color='blue', alpha=0.7)\n",
    "        # Total Reviews Bars\n",
    "        ax1.bar([p + bar_width for p in x], total_reviews / 1e6, bar_width, label='Total Reviews (in Millions)', color='orange', alpha=0.7)\n",
    "\n",
    "        # Configure x-axis\n",
    "        ax1.set_xticks([p + bar_width / 2 for p in x])\n",
    "        ax1.set_xticklabels(categories, rotation=45, ha='right')\n",
    "        ax1.set_title('Comparison of Average Rating and Total Reviews (Top 10 Categories)')\n",
    "        ax1.set_xlabel('Category')\n",
    "        ax1.set_ylabel('Value')\n",
    "        ax1.legend()\n",
    "        plt.tight_layout()\n",
    "        plt.show()\n",
    "    else:\n",
    "        print(\"No data available for the specified criteria.\")\n",
    "else:\n",
    "    print(\"This graph is not available outside the allowed time (3 PM to 5 PM IST).\")"
   ]
  },
  {
   "cell_type": "code",
   "execution_count": null,
   "id": "d9284592-6927-4750-9f49-cbd0e8641e62",
   "metadata": {},
   "outputs": [],
   "source": []
  }
 ],
 "metadata": {
  "kernelspec": {
   "display_name": "Python 3 (ipykernel)",
   "language": "python",
   "name": "python3"
  },
  "language_info": {
   "codemirror_mode": {
    "name": "ipython",
    "version": 3
   },
   "file_extension": ".py",
   "mimetype": "text/x-python",
   "name": "python",
   "nbconvert_exporter": "python",
   "pygments_lexer": "ipython3",
   "version": "3.12.7"
  }
 },
 "nbformat": 4,
 "nbformat_minor": 5
}
