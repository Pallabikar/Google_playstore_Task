{
 "cells": [
  {
   "cell_type": "code",
   "execution_count": 2,
   "id": "cf918626-cae5-477c-a636-5bfceb204c3b",
   "metadata": {},
   "outputs": [],
   "source": [
    "import pandas as pd\n",
    "import matplotlib.pyplot as plt\n",
    "from datetime import datetime"
   ]
  },
  {
   "cell_type": "code",
   "execution_count": 4,
   "id": "00a84640-4335-40a2-b3e8-ff8d1835a1fa",
   "metadata": {},
   "outputs": [
    {
     "data": {
      "text/html": [
       "<div>\n",
       "<style scoped>\n",
       "    .dataframe tbody tr th:only-of-type {\n",
       "        vertical-align: middle;\n",
       "    }\n",
       "\n",
       "    .dataframe tbody tr th {\n",
       "        vertical-align: top;\n",
       "    }\n",
       "\n",
       "    .dataframe thead th {\n",
       "        text-align: right;\n",
       "    }\n",
       "</style>\n",
       "<table border=\"1\" class=\"dataframe\">\n",
       "  <thead>\n",
       "    <tr style=\"text-align: right;\">\n",
       "      <th></th>\n",
       "      <th>App</th>\n",
       "      <th>Category</th>\n",
       "      <th>Rating</th>\n",
       "      <th>Reviews</th>\n",
       "      <th>Size</th>\n",
       "      <th>Installs</th>\n",
       "      <th>Type</th>\n",
       "      <th>Price</th>\n",
       "      <th>Content Rating</th>\n",
       "      <th>Genres</th>\n",
       "      <th>Last Updated</th>\n",
       "      <th>Current Ver</th>\n",
       "      <th>Android Ver</th>\n",
       "    </tr>\n",
       "  </thead>\n",
       "  <tbody>\n",
       "    <tr>\n",
       "      <th>0</th>\n",
       "      <td>Photo Editor &amp; Candy Camera &amp; Grid &amp; ScrapBook</td>\n",
       "      <td>ART_AND_DESIGN</td>\n",
       "      <td>4.1</td>\n",
       "      <td>159</td>\n",
       "      <td>19M</td>\n",
       "      <td>10,000+</td>\n",
       "      <td>Free</td>\n",
       "      <td>0</td>\n",
       "      <td>Everyone</td>\n",
       "      <td>Art &amp; Design</td>\n",
       "      <td>January 7, 2018</td>\n",
       "      <td>1.0.0</td>\n",
       "      <td>4.0.3 and up</td>\n",
       "    </tr>\n",
       "    <tr>\n",
       "      <th>1</th>\n",
       "      <td>Coloring book moana</td>\n",
       "      <td>ART_AND_DESIGN</td>\n",
       "      <td>3.9</td>\n",
       "      <td>967</td>\n",
       "      <td>14M</td>\n",
       "      <td>500,000+</td>\n",
       "      <td>Free</td>\n",
       "      <td>0</td>\n",
       "      <td>Everyone</td>\n",
       "      <td>Art &amp; Design;Pretend Play</td>\n",
       "      <td>January 15, 2018</td>\n",
       "      <td>2.0.0</td>\n",
       "      <td>4.0.3 and up</td>\n",
       "    </tr>\n",
       "    <tr>\n",
       "      <th>2</th>\n",
       "      <td>U Launcher Lite – FREE Live Cool Themes, Hide ...</td>\n",
       "      <td>ART_AND_DESIGN</td>\n",
       "      <td>4.7</td>\n",
       "      <td>87510</td>\n",
       "      <td>8.7M</td>\n",
       "      <td>5,000,000+</td>\n",
       "      <td>Free</td>\n",
       "      <td>0</td>\n",
       "      <td>Everyone</td>\n",
       "      <td>Art &amp; Design</td>\n",
       "      <td>August 1, 2018</td>\n",
       "      <td>1.2.4</td>\n",
       "      <td>4.0.3 and up</td>\n",
       "    </tr>\n",
       "    <tr>\n",
       "      <th>3</th>\n",
       "      <td>Sketch - Draw &amp; Paint</td>\n",
       "      <td>ART_AND_DESIGN</td>\n",
       "      <td>4.5</td>\n",
       "      <td>215644</td>\n",
       "      <td>25M</td>\n",
       "      <td>50,000,000+</td>\n",
       "      <td>Free</td>\n",
       "      <td>0</td>\n",
       "      <td>Teen</td>\n",
       "      <td>Art &amp; Design</td>\n",
       "      <td>June 8, 2018</td>\n",
       "      <td>Varies with device</td>\n",
       "      <td>4.2 and up</td>\n",
       "    </tr>\n",
       "    <tr>\n",
       "      <th>4</th>\n",
       "      <td>Pixel Draw - Number Art Coloring Book</td>\n",
       "      <td>ART_AND_DESIGN</td>\n",
       "      <td>4.3</td>\n",
       "      <td>967</td>\n",
       "      <td>2.8M</td>\n",
       "      <td>100,000+</td>\n",
       "      <td>Free</td>\n",
       "      <td>0</td>\n",
       "      <td>Everyone</td>\n",
       "      <td>Art &amp; Design;Creativity</td>\n",
       "      <td>June 20, 2018</td>\n",
       "      <td>1.1</td>\n",
       "      <td>4.4 and up</td>\n",
       "    </tr>\n",
       "  </tbody>\n",
       "</table>\n",
       "</div>"
      ],
      "text/plain": [
       "                                                 App        Category  Rating  \\\n",
       "0     Photo Editor & Candy Camera & Grid & ScrapBook  ART_AND_DESIGN     4.1   \n",
       "1                                Coloring book moana  ART_AND_DESIGN     3.9   \n",
       "2  U Launcher Lite – FREE Live Cool Themes, Hide ...  ART_AND_DESIGN     4.7   \n",
       "3                              Sketch - Draw & Paint  ART_AND_DESIGN     4.5   \n",
       "4              Pixel Draw - Number Art Coloring Book  ART_AND_DESIGN     4.3   \n",
       "\n",
       "  Reviews  Size     Installs  Type Price Content Rating  \\\n",
       "0     159   19M      10,000+  Free     0       Everyone   \n",
       "1     967   14M     500,000+  Free     0       Everyone   \n",
       "2   87510  8.7M   5,000,000+  Free     0       Everyone   \n",
       "3  215644   25M  50,000,000+  Free     0           Teen   \n",
       "4     967  2.8M     100,000+  Free     0       Everyone   \n",
       "\n",
       "                      Genres      Last Updated         Current Ver  \\\n",
       "0               Art & Design   January 7, 2018               1.0.0   \n",
       "1  Art & Design;Pretend Play  January 15, 2018               2.0.0   \n",
       "2               Art & Design    August 1, 2018               1.2.4   \n",
       "3               Art & Design      June 8, 2018  Varies with device   \n",
       "4    Art & Design;Creativity     June 20, 2018                 1.1   \n",
       "\n",
       "    Android Ver  \n",
       "0  4.0.3 and up  \n",
       "1  4.0.3 and up  \n",
       "2  4.0.3 and up  \n",
       "3    4.2 and up  \n",
       "4    4.4 and up  "
      ]
     },
     "execution_count": 4,
     "metadata": {},
     "output_type": "execute_result"
    }
   ],
   "source": [
    "# Load the dataset\n",
    "data = pd.read_csv('googleplaystore.csv')\n",
    "data.head()"
   ]
  },
  {
   "cell_type": "code",
   "execution_count": 6,
   "id": "d6bdd87e-5c92-4185-8b0a-751cd26d7cbe",
   "metadata": {},
   "outputs": [],
   "source": [
    "# Data Cleaning\n",
    "# Convert 'Last Updated' to datetime format\n",
    "data['Last Updated'] = pd.to_datetime(data['Last Updated'], errors='coerce')"
   ]
  },
  {
   "cell_type": "code",
   "execution_count": 8,
   "id": "4be7236f-2b5d-456e-8cbb-3df07d5f07d0",
   "metadata": {},
   "outputs": [],
   "source": [
    "# Clean 'Installs' column by removing '+' and ',' then convert to integer\n",
    "data['Installs'] = pd.to_numeric(data['Installs'].str.replace('[+,]', '', regex=True), errors='coerce')\n",
    "data['Installs'] = data['Installs'].fillna(0).astype(int) # Replace NaN with 0 and convert to int"
   ]
  },
  {
   "cell_type": "code",
   "execution_count": 10,
   "id": "e034dad7-bfe7-43d0-af18-8029a31beeca",
   "metadata": {},
   "outputs": [],
   "source": [
    "# Clean 'Size' column and convert to numeric (handling 'Varies with device')\n",
    "data['Size'] = data['Size'].replace('Varies with device', pd.NA)\n",
    "data['Size'] = data['Size'].str.replace('M', 'e6').str.replace('k', 'e3')\n",
    "data['Size'] = pd.to_numeric(data['Size'], errors='coerce')"
   ]
  },
  {
   "cell_type": "code",
   "execution_count": 12,
   "id": "7ab3743e-65e0-417f-a72d-6e1f06169d01",
   "metadata": {},
   "outputs": [],
   "source": [
    "# Convert 'Reviews' to numeric\n",
    "data['Reviews'] = pd.to_numeric(data['Reviews'], errors='coerce')"
   ]
  },
  {
   "cell_type": "code",
   "execution_count": 14,
   "id": "45796dee-78df-4e07-98c0-e84eb6a2a29f",
   "metadata": {},
   "outputs": [],
   "source": [
    "# Convert 'Rating' to numeric\n",
    "data['Rating'] = pd.to_numeric(data['Rating'], errors='coerce')"
   ]
  },
  {
   "cell_type": "code",
   "execution_count": 16,
   "id": "84e843ce-7457-4fbf-a740-0f3b88adae0e",
   "metadata": {},
   "outputs": [],
   "source": [
    "# Function to check if the current time is within the allowed range\n",
    "def is_time_allowed(start_hour, end_hour):\n",
    "    current_hour = datetime.now().hour\n",
    "    return start_hour <= current_hour < end_hour"
   ]
  },
  {
   "cell_type": "markdown",
   "id": "8f757f90-c387-4330-9439-04f83cdc8d5a",
   "metadata": {},
   "source": [
    "## 3. Time Series Line Chart: Install Trends"
   ]
  },
  {
   "cell_type": "code",
   "execution_count": 19,
   "id": "0851ab7d-0c45-4c17-838e-609c9a9ce1b6",
   "metadata": {},
   "outputs": [
    {
     "name": "stdout",
     "output_type": "stream",
     "text": [
      "This graph is not available outside the allowed time (6 PM to 9 PM IST).\n"
     ]
    }
   ],
   "source": [
    "if is_time_allowed(18, 21):\n",
    "    filtered_data = data[\n",
    "        (data['Content Rating'] == 'Teen') &\n",
    "        (data['App'].str.startswith('E')) &\n",
    "        (data['Installs'] > 10_000)\n",
    "    ]\n",
    "\n",
    "    if not filtered_data.empty:\n",
    "        filtered_data['Month'] = filtered_data['Last Updated'].dt.to_period('M')\n",
    "        installs_trend = filtered_data.groupby(['Month', 'Category'])['Installs'].sum().unstack()\n",
    "\n",
    "        ax = installs_trend.plot(kind='line', figsize=(12, 6), marker='o')\n",
    "        \n",
    "        for category in installs_trend.columns:\n",
    "            growth = installs_trend[category].pct_change() > 0.2\n",
    "            ax.fill_between(\n",
    "                installs_trend.index.to_timestamp(),\n",
    "                installs_trend[category],\n",
    "                where=growth,\n",
    "                alpha=0.3\n",
    "            )\n",
    "\n",
    "        plt.title('Install Trends Over Time (Highlighted Growth > 20%)')\n",
    "        plt.xlabel('Time')\n",
    "        plt.ylabel('Total Installs')\n",
    "        plt.legend(title='Category')\n",
    "        plt.tight_layout()\n",
    "        plt.show()\n",
    "    else:\n",
    "        print(\"No data available for the specified criteria.\")\n",
    "else:\n",
    "    print(\"This graph is not available outside the allowed time (6 PM to 9 PM IST).\")"
   ]
  },
  {
   "cell_type": "code",
   "execution_count": null,
   "id": "21732f93-b69b-477e-8f8c-1be778bbc903",
   "metadata": {},
   "outputs": [],
   "source": []
  }
 ],
 "metadata": {
  "kernelspec": {
   "display_name": "Python 3 (ipykernel)",
   "language": "python",
   "name": "python3"
  },
  "language_info": {
   "codemirror_mode": {
    "name": "ipython",
    "version": 3
   },
   "file_extension": ".py",
   "mimetype": "text/x-python",
   "name": "python",
   "nbconvert_exporter": "python",
   "pygments_lexer": "ipython3",
   "version": "3.12.7"
  }
 },
 "nbformat": 4,
 "nbformat_minor": 5
}
