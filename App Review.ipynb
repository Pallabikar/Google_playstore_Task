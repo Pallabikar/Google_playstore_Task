{
 "cells": [
  {
   "cell_type": "code",
   "execution_count": 4,
   "id": "0e595b33-3939-44b4-be4f-f21a6fba7cc3",
   "metadata": {},
   "outputs": [],
   "source": [
    "import pandas as pd\n",
    "import matplotlib.pyplot as plt\n",
    "from datetime import datetime"
   ]
  },
  {
   "cell_type": "code",
   "execution_count": 6,
   "id": "c4c11056-00fb-4aed-bbeb-79a2da08b498",
   "metadata": {
    "panel-layout": {
     "height": 232.40000915527344,
     "visible": true,
     "width": 100
    }
   },
   "outputs": [
    {
     "data": {
      "text/html": [
       "<div>\n",
       "<style scoped>\n",
       "    .dataframe tbody tr th:only-of-type {\n",
       "        vertical-align: middle;\n",
       "    }\n",
       "\n",
       "    .dataframe tbody tr th {\n",
       "        vertical-align: top;\n",
       "    }\n",
       "\n",
       "    .dataframe thead th {\n",
       "        text-align: right;\n",
       "    }\n",
       "</style>\n",
       "<table border=\"1\" class=\"dataframe\">\n",
       "  <thead>\n",
       "    <tr style=\"text-align: right;\">\n",
       "      <th></th>\n",
       "      <th>App</th>\n",
       "      <th>Category</th>\n",
       "      <th>Rating</th>\n",
       "      <th>Reviews</th>\n",
       "      <th>Size</th>\n",
       "      <th>Installs</th>\n",
       "      <th>Type</th>\n",
       "      <th>Price</th>\n",
       "      <th>Content Rating</th>\n",
       "      <th>Genres</th>\n",
       "      <th>Last Updated</th>\n",
       "      <th>Current Ver</th>\n",
       "      <th>Android Ver</th>\n",
       "    </tr>\n",
       "  </thead>\n",
       "  <tbody>\n",
       "    <tr>\n",
       "      <th>0</th>\n",
       "      <td>Photo Editor &amp; Candy Camera &amp; Grid &amp; ScrapBook</td>\n",
       "      <td>ART_AND_DESIGN</td>\n",
       "      <td>4.1</td>\n",
       "      <td>159</td>\n",
       "      <td>19M</td>\n",
       "      <td>10,000+</td>\n",
       "      <td>Free</td>\n",
       "      <td>0</td>\n",
       "      <td>Everyone</td>\n",
       "      <td>Art &amp; Design</td>\n",
       "      <td>January 7, 2018</td>\n",
       "      <td>1.0.0</td>\n",
       "      <td>4.0.3 and up</td>\n",
       "    </tr>\n",
       "    <tr>\n",
       "      <th>1</th>\n",
       "      <td>Coloring book moana</td>\n",
       "      <td>ART_AND_DESIGN</td>\n",
       "      <td>3.9</td>\n",
       "      <td>967</td>\n",
       "      <td>14M</td>\n",
       "      <td>500,000+</td>\n",
       "      <td>Free</td>\n",
       "      <td>0</td>\n",
       "      <td>Everyone</td>\n",
       "      <td>Art &amp; Design;Pretend Play</td>\n",
       "      <td>January 15, 2018</td>\n",
       "      <td>2.0.0</td>\n",
       "      <td>4.0.3 and up</td>\n",
       "    </tr>\n",
       "    <tr>\n",
       "      <th>2</th>\n",
       "      <td>U Launcher Lite – FREE Live Cool Themes, Hide ...</td>\n",
       "      <td>ART_AND_DESIGN</td>\n",
       "      <td>4.7</td>\n",
       "      <td>87510</td>\n",
       "      <td>8.7M</td>\n",
       "      <td>5,000,000+</td>\n",
       "      <td>Free</td>\n",
       "      <td>0</td>\n",
       "      <td>Everyone</td>\n",
       "      <td>Art &amp; Design</td>\n",
       "      <td>August 1, 2018</td>\n",
       "      <td>1.2.4</td>\n",
       "      <td>4.0.3 and up</td>\n",
       "    </tr>\n",
       "    <tr>\n",
       "      <th>3</th>\n",
       "      <td>Sketch - Draw &amp; Paint</td>\n",
       "      <td>ART_AND_DESIGN</td>\n",
       "      <td>4.5</td>\n",
       "      <td>215644</td>\n",
       "      <td>25M</td>\n",
       "      <td>50,000,000+</td>\n",
       "      <td>Free</td>\n",
       "      <td>0</td>\n",
       "      <td>Teen</td>\n",
       "      <td>Art &amp; Design</td>\n",
       "      <td>June 8, 2018</td>\n",
       "      <td>Varies with device</td>\n",
       "      <td>4.2 and up</td>\n",
       "    </tr>\n",
       "    <tr>\n",
       "      <th>4</th>\n",
       "      <td>Pixel Draw - Number Art Coloring Book</td>\n",
       "      <td>ART_AND_DESIGN</td>\n",
       "      <td>4.3</td>\n",
       "      <td>967</td>\n",
       "      <td>2.8M</td>\n",
       "      <td>100,000+</td>\n",
       "      <td>Free</td>\n",
       "      <td>0</td>\n",
       "      <td>Everyone</td>\n",
       "      <td>Art &amp; Design;Creativity</td>\n",
       "      <td>June 20, 2018</td>\n",
       "      <td>1.1</td>\n",
       "      <td>4.4 and up</td>\n",
       "    </tr>\n",
       "  </tbody>\n",
       "</table>\n",
       "</div>"
      ],
      "text/plain": [
       "                                                 App        Category  Rating  \\\n",
       "0     Photo Editor & Candy Camera & Grid & ScrapBook  ART_AND_DESIGN     4.1   \n",
       "1                                Coloring book moana  ART_AND_DESIGN     3.9   \n",
       "2  U Launcher Lite – FREE Live Cool Themes, Hide ...  ART_AND_DESIGN     4.7   \n",
       "3                              Sketch - Draw & Paint  ART_AND_DESIGN     4.5   \n",
       "4              Pixel Draw - Number Art Coloring Book  ART_AND_DESIGN     4.3   \n",
       "\n",
       "  Reviews  Size     Installs  Type Price Content Rating  \\\n",
       "0     159   19M      10,000+  Free     0       Everyone   \n",
       "1     967   14M     500,000+  Free     0       Everyone   \n",
       "2   87510  8.7M   5,000,000+  Free     0       Everyone   \n",
       "3  215644   25M  50,000,000+  Free     0           Teen   \n",
       "4     967  2.8M     100,000+  Free     0       Everyone   \n",
       "\n",
       "                      Genres      Last Updated         Current Ver  \\\n",
       "0               Art & Design   January 7, 2018               1.0.0   \n",
       "1  Art & Design;Pretend Play  January 15, 2018               2.0.0   \n",
       "2               Art & Design    August 1, 2018               1.2.4   \n",
       "3               Art & Design      June 8, 2018  Varies with device   \n",
       "4    Art & Design;Creativity     June 20, 2018                 1.1   \n",
       "\n",
       "    Android Ver  \n",
       "0  4.0.3 and up  \n",
       "1  4.0.3 and up  \n",
       "2  4.0.3 and up  \n",
       "3    4.2 and up  \n",
       "4    4.4 and up  "
      ]
     },
     "execution_count": 6,
     "metadata": {},
     "output_type": "execute_result"
    }
   ],
   "source": [
    "# Load the dataset\n",
    "data = pd.read_csv('googleplaystore.csv')\n",
    "data.head()"
   ]
  },
  {
   "cell_type": "code",
   "execution_count": 8,
   "id": "8b852daf-1fc4-4f8b-95fc-b50583352c2d",
   "metadata": {},
   "outputs": [],
   "source": [
    "# Data Cleaning\n",
    "# Convert 'Last Updated' to datetime format\n",
    "data['Last Updated'] = pd.to_datetime(data['Last Updated'], errors='coerce')"
   ]
  },
  {
   "cell_type": "code",
   "execution_count": 10,
   "id": "09ecba2a-ecf2-4e6c-8b8b-6930ae6fd315",
   "metadata": {},
   "outputs": [],
   "source": [
    "# Clean 'Installs' column by removing '+' and ',' then convert to integer\n",
    "data['Installs'] = pd.to_numeric(data['Installs'].str.replace('[+,]', '', regex=True), errors='coerce')\n",
    "data['Installs'] = data['Installs'].fillna(0).astype(int) # Replace NaN with 0 and convert to int"
   ]
  },
  {
   "cell_type": "code",
   "execution_count": 12,
   "id": "b20371e1-4c15-4536-9aa5-114040a65446",
   "metadata": {},
   "outputs": [],
   "source": [
    "# Clean 'Size' column and convert to numeric (handling 'Varies with device')\n",
    "data['Size'] = data['Size'].replace('Varies with device', pd.NA)\n",
    "data['Size'] = data['Size'].str.replace('M', 'e6').str.replace('k', 'e3')\n",
    "data['Size'] = pd.to_numeric(data['Size'], errors='coerce')"
   ]
  },
  {
   "cell_type": "code",
   "execution_count": 14,
   "id": "7d215841-a658-43d4-a570-368d2bac4170",
   "metadata": {},
   "outputs": [],
   "source": [
    "# Convert 'Reviews' to numeric\n",
    "data['Reviews'] = pd.to_numeric(data['Reviews'], errors='coerce')"
   ]
  },
  {
   "cell_type": "code",
   "execution_count": 16,
   "id": "55794001-5f92-4dac-ac23-fc129e57500c",
   "metadata": {},
   "outputs": [],
   "source": [
    "# Convert 'Rating' to numeric\n",
    "data['Rating'] = pd.to_numeric(data['Rating'], errors='coerce')"
   ]
  },
  {
   "cell_type": "code",
   "execution_count": 18,
   "id": "16b16560-ca67-4e14-b584-058b49e67f39",
   "metadata": {},
   "outputs": [],
   "source": [
    "# Function to check if the current time is within the allowed range\n",
    "def is_time_allowed(start_hour, end_hour):\n",
    "    current_hour = datetime.now().hour\n",
    "    return start_hour <= current_hour < end_hour"
   ]
  },
  {
   "cell_type": "markdown",
   "id": "52b68703-08a6-4857-97c0-1ddf3ae7807b",
   "metadata": {
    "panel-layout": {
     "height": 50.8125,
     "visible": true,
     "width": 100
    }
   },
   "source": [
    "## 1. Stacked Bar Chart: Sentiment Distribution"
   ]
  },
  {
   "cell_type": "code",
   "execution_count": 21,
   "id": "9ee8fc6c-26ee-4d47-9536-ab02446b42af",
   "metadata": {},
   "outputs": [
    {
     "name": "stderr",
     "output_type": "stream",
     "text": [
      "C:\\Users\\ASUS\\AppData\\Local\\Temp\\ipykernel_15120\\4158452171.py:13: FutureWarning: The default of observed=False is deprecated and will be changed to True in a future version of pandas. Pass observed=False to retain current behavior or observed=True to adopt the future default and silence this warning.\n",
      "  filtered_data.groupby(['Category', 'Rating Group'])\n"
     ]
    },
    {
     "data": {
      "image/png": "[encoded data removed]",
      "text/plain": [
       "<Figure size 1000x600 with 1 Axes>"
      ]
     },
     "metadata": {},
     "output_type": "display_data"
    }
   ],
   "source": [
    "if not data.empty:\n",
    "    filtered_data = data[data['Reviews'] > 1000]\n",
    "    top_categories = filtered_data['Category'].value_counts().head(5).index\n",
    "    \n",
    "    filtered_data = filtered_data[filtered_data['Category'].isin(top_categories)]\n",
    "    filtered_data['Rating Group'] = pd.cut(\n",
    "        filtered_data['Rating'],\n",
    "        bins=[0, 2, 4, 5],\n",
    "        labels=['1-2 stars', '3-4 stars', '4-5 stars']\n",
    "    )\n",
    "\n",
    "    sentiment_distribution = (\n",
    "        filtered_data.groupby(['Category', 'Rating Group'])\n",
    "        .size()\n",
    "        .unstack(fill_value=0)\n",
    "    )\n",
    "\n",
    "    sentiment_distribution.plot(\n",
    "        kind='bar', stacked=True, figsize=(10, 6), cmap='viridis'\n",
    "    )\n",
    "    plt.title('Sentiment Distribution by Rating Group (Top 5 Categories)')\n",
    "    plt.xlabel('Category')\n",
    "    plt.ylabel('Number of Reviews')\n",
    "    plt.legend(title='Rating Group')\n",
    "    plt.tight_layout()\n",
    "    plt.show()"
   ]
  },
  {
   "cell_type": "markdown",
   "id": "7b91ccc2-e0b2-4bb5-b4ce-9b6840c47c9d",
   "metadata": {
    "panel-layout": {
     "height": 50.8125,
     "visible": true,
     "width": 100
    }
   },
   "source": [
    "## 2. Grouped Bar Chart: Average Rating and Total Reviews"
   ]
  },
  {
   "cell_type": "code",
   "execution_count": 24,
   "id": "368e5f54-62e9-4392-a9ce-3c6844be5eb5",
   "metadata": {},
   "outputs": [
    {
     "name": "stdout",
     "output_type": "stream",
     "text": [
      "This graph is not available outside the allowed time (3 PM to 5 PM IST).\n"
     ]
    }
   ],
   "source": [
    "if is_time_allowed(15, 17):\n",
    "    filtered_data = data[\n",
    "        (data['Rating'] >= 4.0) &\n",
    "        (data['Size'] >= 10_000_000) &\n",
    "        (data['Last Updated'].dt.month == 1)\n",
    "    ]\n",
    "\n",
    "    if not filtered_data.empty:\n",
    "        # Identify top 10 categories by number of installs\n",
    "        top_categories = filtered_data.groupby('Category')['Installs'].sum().nlargest(10).index\n",
    "        filtered_data = filtered_data[filtered_data['Category'].isin(top_categories)]\n",
    "\n",
    "        # Calculate average rating and total reviews for each category\n",
    "        avg_rating = filtered_data.groupby('Category')['Rating'].mean()\n",
    "        total_reviews = filtered_data.groupby('Category')['Reviews'].sum()\n",
    "\n",
    "        # Plotting the grouped bar chart\n",
    "        bar_width = 0.4\n",
    "        categories = avg_rating.index\n",
    "        x = range(len(categories))\n",
    "\n",
    "        fig, ax1 = plt.subplots(figsize=(10, 6))\n",
    "\n",
    "        # Average Rating Bars\n",
    "        ax1.bar(x, avg_rating, bar_width, label='Average Rating', color='blue', alpha=0.7)\n",
    "        # Total Reviews Bars\n",
    "        ax1.bar([p + bar_width for p in x], total_reviews / 1e6, bar_width, label='Total Reviews (in Millions)', color='orange', alpha=0.7)\n",
    "\n",
    "        # Configure x-axis\n",
    "        ax1.set_xticks([p + bar_width / 2 for p in x])\n",
    "        ax1.set_xticklabels(categories, rotation=45, ha='right')\n",
    "        ax1.set_title('Comparison of Average Rating and Total Reviews (Top 10 Categories)')\n",
    "        ax1.set_xlabel('Category')\n",
    "        ax1.set_ylabel('Value')\n",
    "        ax1.legend()\n",
    "        plt.tight_layout()\n",
    "        plt.show()\n",
    "    else:\n",
    "        print(\"No data available for the specified criteria.\")\n",
    "else:\n",
    "    print(\"This graph is not available outside the allowed time (3 PM to 5 PM IST).\")"
   ]
  },
  {
   "cell_type": "markdown",
   "id": "4486de7e-caad-4912-9aec-4dc87d721ba8",
   "metadata": {
    "panel-layout": {
     "height": 50.8125,
     "visible": true,
     "width": 100
    }
   },
   "source": [
    "## 3. Time Series Line Chart: Install Trends"
   ]
  },
  {
   "cell_type": "code",
   "execution_count": 29,
   "id": "82b5c90b-ac03-473b-84a8-b47092398d38",
   "metadata": {},
   "outputs": [
    {
     "name": "stdout",
     "output_type": "stream",
     "text": [
      "This graph is not available outside the allowed time (6 PM to 9 PM IST).\n"
     ]
    }
   ],
   "source": [
    "if is_time_allowed(18, 21):\n",
    "    filtered_data = data[\n",
    "        (data['Content Rating'] == 'Teen') &\n",
    "        (data['App'].str.startswith('E')) &\n",
    "        (data['Installs'] > 10_000)\n",
    "    ]\n",
    "\n",
    "    if not filtered_data.empty:\n",
    "        filtered_data['Month'] = filtered_data['Last Updated'].dt.to_period('M')\n",
    "        installs_trend = filtered_data.groupby(['Month', 'Category'])['Installs'].sum().unstack()\n",
    "\n",
    "        ax = installs_trend.plot(kind='line', figsize=(12, 6), marker='o')\n",
    "        \n",
    "        for category in installs_trend.columns:\n",
    "            growth = installs_trend[category].pct_change() > 0.2\n",
    "            ax.fill_between(\n",
    "                installs_trend.index.to_timestamp(),\n",
    "                installs_trend[category],\n",
    "                where=growth,\n",
    "                alpha=0.3\n",
    "            )\n",
    "\n",
    "        plt.title('Install Trends Over Time (Highlighted Growth > 20%)')\n",
    "        plt.xlabel('Time')\n",
    "        plt.ylabel('Total Installs')\n",
    "        plt.legend(title='Category')\n",
    "        plt.tight_layout()\n",
    "        plt.show()\n",
    "    else:\n",
    "        print(\"No data available for the specified criteria.\")\n",
    "else:\n",
    "    print(\"This graph is not available outside the allowed time (6 PM to 9 PM IST).\")"
   ]
  },
  {
   "cell_type": "code",
   "execution_count": null,
   "id": "8e9a0f36-3017-40d2-b18a-e655bceba041",
   "metadata": {},
   "outputs": [],
   "source": []
  }
 ],
 "metadata": {
  "kernelspec": {
   "display_name": "Python 3 (ipykernel)",
   "language": "python",
   "name": "python3"
  },
  "language_info": {
   "codemirror_mode": {
    "name": "ipython",
    "version": 3
   },
   "file_extension": ".py",
   "mimetype": "text/x-python",
   "name": "python",
   "nbconvert_exporter": "python",
   "pygments_lexer": "ipython3",
   "version": "3.12.7"
  },
  "panel-cell-order": [
   "c4c11056-00fb-4aed-bbeb-79a2da08b498",
   "52b68703-08a6-4857-97c0-1ddf3ae7807b",
   "7b91ccc2-e0b2-4bb5-b4ce-9b6840c47c9d",
   "4486de7e-caad-4912-9aec-4dc87d721ba8"
  ]
 },
 "nbformat": 4,
 "nbformat_minor": 5
}
